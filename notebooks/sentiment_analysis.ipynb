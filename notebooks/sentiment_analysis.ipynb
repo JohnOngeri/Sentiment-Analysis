{
 "cells": [
  {
   "cell_type": "markdown",
   "metadata": {},
   "source": [
    "# Sentiment Analysis on IMDB Movie Reviews\n",
    "\n",
    "This notebook provides an interactive walkthrough of the sentiment analysis project.\n",
    "\n",
    "## Table of Contents\n",
    "1. [Setup and Imports](#setup)\n",
    "2. [Load and Explore Data](#data)\n",
    "3. [Exploratory Data Analysis](#eda)\n",
    "4. [Text Preprocessing](#preprocessing)\n",
    "5. [Traditional ML Models](#traditional)\n",
    "6. [Deep Learning Models](#deep-learning)\n",
    "7. [Results and Comparison](#results)"
   ]
  },
  {
   "cell_type": "markdown",
   "metadata": {},
   "source": [
    "## 1. Setup and Imports <a id='setup'></a>"
   ]
  },
  {
   "cell_type": "code",
   "execution_count": null,
   "metadata": {},
   "outputs": [],
   "source": [
    "# Install required packages\n",
    "# !pip install pandas numpy matplotlib seaborn scikit-learn tensorflow datasets wordcloud gensim nltk\n",
    "\n",
    "import pandas as pd\n",
    "import numpy as np\n",
    "import matplotlib.pyplot as plt\n",
    "import seaborn as sns\n",
    "from datasets import load_dataset\n",
    "import warnings\n",
    "warnings.filterwarnings('ignore')\n",
    "\n",
    "# Set style\n",
    "sns.set_style('whitegrid')\n",
    "plt.rcParams['figure.figsize'] = (12, 6)\n",
    "\n",
    "print('✓ All packages imported successfully!')"
   ]
  },
  {
   "cell_type": "markdown",
   "metadata": {},
   "source": [
    "## 2. Load and Explore Data <a id='data'></a>"
   ]
  },
  {
   "cell_type": "code",
   "execution_count": null,
   "metadata": {},
   "outputs": [],
   "source": [
    "# Load IMDB dataset\n",
    "print('Loading IMDB dataset...')\n",
    "dataset = load_dataset('imdb')\n",
    "\n",
    "# Convert to pandas\n",
    "train_df = pd.DataFrame(dataset['train'])\n",
    "test_df = pd.DataFrame(dataset['test'])\n",
    "\n",
    "print(f'Training samples: {len(train_df)}')\n",
    "print(f'Test samples: {len(test_df)}')\n",
    "print(f'\\nFirst few rows:')\n",
    "train_df.head()"
   ]
  },
  {
   "cell_type": "code",
   "execution_count": null,
   "metadata": {},
   "outputs": [],
   "source": [
    "# Check label distribution\n",
    "print('Label distribution:')\n",
    "print(train_df['label'].value_counts())\n",
    "print(f'\\nClass balance: {train_df[\"label\"].value_counts(normalize=True)}')"
   ]
  },
  {
   "cell_type": "code",
   "execution_count": null,
   "metadata": {},
   "outputs": [],
   "source": [
    "# Sample reviews\n",
    "print('Positive Review Example:')\n",
    "print(train_df[train_df['label'] == 1]['text'].iloc[0][:500])\n",
    "print('\\n' + '='*80 + '\\n')\n",
    "print('Negative Review Example:')\n",
    "print(train_df[train_df['label'] == 0]['text'].iloc[0][:500])"
   ]
  },
  {
   "cell_type": "markdown",
   "metadata": {},
   "source": [
    "## 3. Exploratory Data Analysis <a id='eda'></a>"
   ]
  },
  {
   "cell_type": "code",
   "execution_count": null,
   "metadata": {},
   "outputs": [],
   "source": [
    "# Calculate review lengths\n",
    "train_df['review_length'] = train_df['text'].apply(lambda x: len(x.split()))\n",
    "\n",
    "# Plot sentiment distribution\n",
    "fig, axes = plt.subplots(1, 2, figsize=(15, 5))\n",
    "\n",
    "# Sentiment counts\n",
    "sentiment_counts = train_df['label'].value_counts()\n",
    "axes[0].bar(['Negative', 'Positive'], sentiment_counts.values, color=['#e74c3c', '#2ecc71'], alpha=0.7)\n",
    "axes[0].set_title('Sentiment Distribution', fontsize=14, fontweight='bold')\n",
    "axes[0].set_ylabel('Count')\n",
    "\n",
    "# Review length distribution\n",
    "axes[1].hist(train_df['review_length'], bins=50, color='#3498db', alpha=0.7)\n",
    "axes[1].set_title('Review Length Distribution', fontsize=14, fontweight='bold')\n",
    "axes[1].set_xlabel('Number of Words')\n",
    "axes[1].set_ylabel('Frequency')\n",
    "\n",
    "plt.tight_layout()\n",
    "plt.show()"
   ]
  },
  {
   "cell_type": "code",
   "execution_count": null,
   "metadata": {},
   "outputs": [],
   "source": [
    "# Review length statistics\n",
    "print('Review Length Statistics:')\n",
    "print(train_df['review_length'].describe())"
   ]
  },
  {
   "cell_type": "markdown",
   "metadata": {},
   "source": [
    "## 4. Text Preprocessing <a id='preprocessing'></a>"
   ]
  },
  {
   "cell_type": "code",
   "execution_count": null,
   "metadata": {},
   "outputs": [],
   "source": [
    "# Run preprocessing script\n",
    "# This will create preprocessed data files\n",
    "!python ../scripts/03_preprocessing.py"
   ]
  },
  {
   "cell_type": "code",
   "execution_count": null,
   "metadata": {},
   "outputs": [],
   "source": [
    "# Load preprocessed data\n",
    "train_preprocessed = pd.read_csv('../data/train_preprocessed.csv')\n",
    "test_preprocessed = pd.read_csv('../data/test_preprocessed.csv')\n",
    "\n",
    "# Compare original vs preprocessed\n",
    "idx = 0\n",
    "print('Original Text:')\n",
    "print(train_df['text'].iloc[idx][:300])\n",
    "print('\\n' + '='*80 + '\\n')\n",
    "print('Preprocessed Text:')\n",
    "print(train_preprocessed['cleaned_text'].iloc[idx][:300])"
   ]
  },
  {
   "cell_type": "markdown",
   "metadata": {},
   "source": [
    "## 5. Traditional ML Models <a id='traditional'></a>"
   ]
  },
  {
   "cell_type": "code",
   "execution_count": null,
   "metadata": {},
   "outputs": [],
   "source": [
    "# Train traditional ML models\n",
    "!python ../scripts/04_traditional_ml.py"
   ]
  },
  {
   "cell_type": "code",
   "execution_count": null,
   "metadata": {},
   "outputs": [],
   "source": [
    "# Load and display results\n",
    "trad_ml_results = pd.read_csv('../results/traditional_ml/model_comparison.csv')\n",
    "print('Traditional ML Model Comparison:')\n",
    "trad_ml_results"
   ]
  },
  {
   "cell_type": "markdown",
   "metadata": {},
   "source": [
    "## 6. Deep Learning Models <a id='deep-learning'></a>"
   ]
  },
  {
   "cell_type": "code",
   "execution_count": null,
   "metadata": {},
   "outputs": [],
   "source": [
    "# Train deep learning models\n",
    "!python ../scripts/05_deep_learning.py"
   ]
  },
  {
   "cell_type": "code",
   "execution_count": null,
   "metadata": {},
   "outputs": [],
   "source": [
    "# Load and display results\n",
    "dl_results = pd.read_csv('../results/deep_learning/model_comparison.csv')\n",
    "print('Deep Learning Model Comparison:')\n",
    "dl_results"
   ]
  },
  {
   "cell_type": "markdown",
   "metadata": {},
   "source": [
    "## 7. Results and Comparison <a id='results'></a>"
   ]
  },
  {
   "cell_type": "code",
   "execution_count": null,
   "metadata": {},
   "outputs": [],
   "source": [
    "# Run final evaluation\n",
    "!python ../scripts/07_final_evaluation.py"
   ]
  },
  {
   "cell_type": "code",
   "execution_count": null,
   "metadata": {},
   "outputs": [],
   "source": [
    "# Load comprehensive comparison\n",
    "all_results = pd.read_csv('../results/final_evaluation/all_models_comparison.csv')\n",
    "print('All Models Comparison (sorted by F1-Score):')\n",
    "all_results"
   ]
  },
  {
   "cell_type": "code",
   "execution_count": null,
   "metadata": {},
   "outputs": [],
   "source": [
    "# Visualize comparison\n",
    "from IPython.display import Image\n",
    "Image(filename='../results/final_evaluation/all_models_comparison.png')"
   ]
  },
  {
   "cell_type": "markdown",
   "metadata": {},
   "source": [
    "## Conclusion\n",
    "\n",
    "This notebook demonstrated a comprehensive sentiment analysis project comparing traditional ML and deep learning approaches. Key findings:\n",
    "\n",
    "1. **Traditional ML** (Logistic Regression) achieves ~87-89% accuracy with fast training\n",
    "2. **Deep Learning** (LSTM) achieves ~88-90% accuracy with longer training time\n",
    "3. **TF-IDF** works well with traditional ML\n",
    "4. **Word2Vec** provides better semantic understanding for deep learning\n",
    "5. **Trade-offs** exist between accuracy, speed, and interpretability\n",
    "\n",
    "For production deployment, Logistic Regression offers the best balance of performance and efficiency."
   ]
  }
 ],
 "metadata": {
  "kernelspec": {
   "display_name": "Python 3",
   "language": "python",
   "name": "python3"
  },
  "language_info": {
   "codemirror_mode": {
    "name": "ipython",
    "version": 3
   },
   "file_extension": ".py",
   "mimetype": "text/x-python",
   "name": "python",
   "nbconvert_exporter": "python",
   "pygments_lexer": "ipython3",
   "version": "3.8.0"
  }
 },
 "nbformat": 4,
 "nbformat_minor": 4
}
